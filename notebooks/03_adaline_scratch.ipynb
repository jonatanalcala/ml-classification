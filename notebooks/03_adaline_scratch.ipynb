{
  "cells": [
    {
      "cell_type": "markdown",
      "id": "df73d8fd",
      "metadata": {},
      "source": [
        "# Adaline Model (Scratch)"
      ]
    },
    {
      "cell_type": "markdown",
      "id": "7ab15507",
      "metadata": {},
      "source": [
        "For this section of the project we will train & test mutliple Adaline models made from scratch using the `AdalineGD` (Gradient Descent) and the `AdalineSGD` (Stochastic Gradient Descent) classes provided by the book *Machine Learning with PyTorch and Scikit-Learn* by Sebastian Rashka, Yuxi (Hayden) Liu, & Vahid Mirjalili. I will modify the code for the UCI Adult Income dataset."
      ]
    },
    {
      "cell_type": "code",
      "execution_count": 1,
      "id": "e1da8579-debe-4680-b017-fe8df34cb314",
      "metadata": {
        "trusted": true
      },
      "outputs": [],
      "source": [
        "import pandas as pd\n",
        "import numpy as np\n",
        "import matplotlib.pyplot as plt\n",
        "from itertools import product\n",
        "from sklearn.model_selection import StratifiedKFold\n",
        "from sklearn.metrics import accuracy_score, classification_report, confusion_matrix"
      ]
    },
    {
      "cell_type": "markdown",
      "id": "2c0203ca",
      "metadata": {},
      "source": [
        "`AdalineGD` Class"
      ]
    },
    {
      "cell_type": "code",
      "execution_count": 2,
      "id": "512f267e",
      "metadata": {},
      "outputs": [],
      "source": [
        "class AdalineGD:\n",
        "    \"\"\"ADAptive LInear NEuron classifier.\n",
        "\n",
        "    Parameters\n",
        "    ------------\n",
        "    eta : float\n",
        "      Learning rate (between 0.0 and 1.0)\n",
        "    n_iter : int\n",
        "      Passes over the training dataset.\n",
        "    random_state : int\n",
        "      Random number generator seed for random weight\n",
        "      initialization.\n",
        "\n",
        "\n",
        "    Attributes\n",
        "    -----------\n",
        "    w_ : 1d-array\n",
        "      Weights after fitting.\n",
        "    b_ : Scalar\n",
        "      Bias unit after fitting.\n",
        "    losses_ : list\n",
        "      Mean squared eror loss function values in each epoch.\n",
        "\n",
        "    \"\"\"\n",
        "    def __init__(self, eta=0.01, n_iter=50, random_state=1):\n",
        "        self.eta = eta\n",
        "        self.n_iter = n_iter\n",
        "        self.random_state = random_state\n",
        "\n",
        "    # Different from Perceptron Class: weight and bias are updated by minimizing the loss function (mean squared error) via gradient descent\n",
        "    def fit(self, X, y):\n",
        "        \"\"\" Fit training data.\n",
        "\n",
        "        Parameters\n",
        "        ----------\n",
        "        X : {array-like}, shape = [n_examples, n_features]\n",
        "          Training vectors, where n_examples is the number of examples and\n",
        "          n_features is the number of features.\n",
        "        y : array-like, shape = [n_examples]\n",
        "          Target values.\n",
        "\n",
        "        Returns\n",
        "        -------\n",
        "        self : object\n",
        "\n",
        "        \"\"\"\n",
        "        rgen = np.random.RandomState(self.random_state)\n",
        "        self.w_ = rgen.normal(loc=0.0, scale=0.01, size=X.shape[1])\n",
        "        self.b_ = np.float_(0.)\n",
        "        self.losses_ = []\n",
        "\n",
        "        for i in range(self.n_iter):\n",
        "            net_input = self.net_input(X)\n",
        "            # Please note that the \"activation\" method has no effect\n",
        "            # in the code since it is simply an identity function. We\n",
        "            # could write `output = self.net_input(X)` directly instead.\n",
        "            # The purpose of the activation is more conceptual, i.e.,  \n",
        "            # in the case of logistic regression (as we will see later), \n",
        "            # we could change it to\n",
        "            # a sigmoid function to implement a logistic regression classifier.\n",
        "            output = self.activation(net_input)\n",
        "            errors = (y - output)\n",
        "            \n",
        "            #for w_j in range(self.w_.shape[0]):\n",
        "            #    self.w_[w_j] += self.eta * (2.0 * (X[:, w_j]*errors)).mean()\n",
        "            \n",
        "            self.w_ += self.eta * 2.0 * X.T.dot(errors) / X.shape[0]\n",
        "            self.b_ += self.eta * 2.0 * errors.mean()\n",
        "            loss = (errors**2).mean()\n",
        "            self.losses_.append(loss)\n",
        "        return self\n",
        "\n",
        "    def net_input(self, X):\n",
        "        \"\"\"Calculate net input\"\"\"\n",
        "        return np.dot(X, self.w_) + self.b_\n",
        "\n",
        "    # No effect on the code since it is simply an identity function. \n",
        "    # We could write `output = self.net_input(X)` directly instead. The purpose of the activation is more conceptual, i.e.,  \n",
        "    # in the case of logistic regression (as we will see later), we could change it to\n",
        "    # a sigmoid function to implement a logistic regression classifier.\n",
        "    def activation(self, X):\n",
        "        \"\"\"Compute linear activation\"\"\"\n",
        "        return X\n",
        "\n",
        "    def predict(self, X):\n",
        "        \"\"\"Return class label after unit step\"\"\"\n",
        "        return np.where(self.activation(self.net_input(X)) >= 0.5, 1, 0)"
      ]
    },
    {
      "cell_type": "markdown",
      "id": "2da22d23",
      "metadata": {},
      "source": [
        "`AdalineSGD` Class"
      ]
    },
    {
      "cell_type": "code",
      "execution_count": 47,
      "id": "b9eeb5b6",
      "metadata": {},
      "outputs": [],
      "source": [
        "class AdalineSGD:\n",
        "    \"\"\"ADAptive LInear NEuron classifier.\n",
        "\n",
        "    Parameters\n",
        "    ------------\n",
        "    eta : float\n",
        "      Learning rate (between 0.0 and 1.0)\n",
        "    n_iter : int\n",
        "      Passes over the training dataset.\n",
        "    shuffle : bool (default: True)\n",
        "      Shuffles training data every epoch if True to prevent cycles.\n",
        "    random_state : int\n",
        "      Random number generator seed for random weight\n",
        "      initialization.\n",
        "\n",
        "\n",
        "    Attributes\n",
        "    -----------\n",
        "    w_ : 1d-array\n",
        "      Weights after fitting.\n",
        "    b_ : Scalar\n",
        "        Bias unit after fitting.\n",
        "    losses_ : list\n",
        "      Mean squared error loss function value averaged over all\n",
        "      training examples in each epoch.\n",
        "\n",
        "        \n",
        "    \"\"\"\n",
        "    def __init__(self, eta=0.01, n_iter=10, shuffle=True, random_state=None):\n",
        "        self.eta = eta\n",
        "        self.n_iter = n_iter\n",
        "        self.w_initialized = False\n",
        "        self.shuffle = shuffle\n",
        "        self.random_state = random_state\n",
        "        \n",
        "    def fit(self, X, y):\n",
        "        \"\"\" Fit training data.\n",
        "\n",
        "        Parameters\n",
        "        ----------\n",
        "        X : {array-like}, shape = [n_examples, n_features]\n",
        "          Training vectors, where n_examples is the number of examples and\n",
        "          n_features is the number of features.\n",
        "        y : array-like, shape = [n_examples]\n",
        "          Target values.\n",
        "\n",
        "        Returns\n",
        "        -------\n",
        "        self : object\n",
        "\n",
        "        \"\"\"\n",
        "        self._initialize_weights(X.shape[1])\n",
        "        self.losses_ = []\n",
        "        for i in range(self.n_iter):\n",
        "            if self.shuffle:\n",
        "                X, y = self._shuffle(X, y)\n",
        "            losses = []\n",
        "            for xi, target in zip(X, y):\n",
        "                losses.append(self._update_weights(xi, target))\n",
        "            avg_loss = np.mean(losses)\n",
        "            self.losses_.append(avg_loss)\n",
        "        return self\n",
        "\n",
        "    def partial_fit(self, X, y):\n",
        "        \"\"\"Fit training data without reinitializing the weights\"\"\"\n",
        "        if not self.w_initialized:\n",
        "            self._initialize_weights(X.shape[1])\n",
        "        if y.ravel().shape[0] > 1:\n",
        "            for xi, target in zip(X, y):\n",
        "                self._update_weights(xi, target)\n",
        "        else:\n",
        "            self._update_weights(X, y)\n",
        "        return self\n",
        "\n",
        "    def _shuffle(self, X, y):\n",
        "        \"\"\"Shuffle training data\"\"\"\n",
        "        r = self.rgen.permutation(len(y))\n",
        "        return X[r], y[r]\n",
        "    \n",
        "    def _initialize_weights(self, m):\n",
        "        \"\"\"Initialize weights to small random numbers\"\"\"\n",
        "        self.rgen = np.random.RandomState(self.random_state)\n",
        "        self.w_ = self.rgen.normal(loc=0.0, scale=0.01, size=m)\n",
        "        self.b_ = np.float64(0.)\n",
        "        self.w_initialized = True\n",
        "        \n",
        "    def _update_weights(self, xi, target):\n",
        "        \"\"\"Apply Adaline learning rule to update the weights\"\"\"\n",
        "        output = self.activation(self.net_input(xi))\n",
        "        error = (target - output)\n",
        "        self.w_ += self.eta * 2.0 * xi * (error)\n",
        "        self.b_ += self.eta * 2.0 * error\n",
        "        loss = error**2\n",
        "        return loss\n",
        "    \n",
        "    def net_input(self, X):\n",
        "        \"\"\"Calculate net input\"\"\"\n",
        "        return np.dot(X, self.w_) + self.b_\n",
        "\n",
        "    def activation(self, X):\n",
        "        \"\"\"Compute linear activation\"\"\"\n",
        "        return X\n",
        "\n",
        "    def predict(self, X):\n",
        "        \"\"\"Return class label after unit step\"\"\"\n",
        "        return np.where(self.activation(self.net_input(X)) >= 0.5, 1, 0)"
      ]
    },
    {
      "cell_type": "markdown",
      "id": "5471176e",
      "metadata": {},
      "source": [
        "---"
      ]
    },
    {
      "cell_type": "markdown",
      "id": "d3b7e2a2",
      "metadata": {},
      "source": [
        "## Reload Preprocessed Data Created in *01_preprocess.ipynb*"
      ]
    },
    {
      "cell_type": "markdown",
      "id": "2943197f",
      "metadata": {},
      "source": [
        "Our data has already been processed, so all we have to do is relead it into this notebook. "
      ]
    },
    {
      "cell_type": "code",
      "execution_count": 38,
      "id": "83346e79",
      "metadata": {},
      "outputs": [],
      "source": [
        "# Reload features\n",
        "X_train = pd.read_csv(\"../data/processed/X_train.csv\")\n",
        "X_test  = pd.read_csv(\"../data/processed/X_test.csv\")\n",
        "\n",
        "# Reload targets (squeezed into Series)\n",
        "y_train = pd.read_csv(\"../data/processed/y_train.csv\").squeeze(\"columns\")\n",
        "y_test  = pd.read_csv(\"../data/processed/y_test.csv\").squeeze(\"columns\")\n",
        "\n",
        "# Align test columns to train columns (critical)\n",
        "X_test = X_test.reindex(columns=X_train.columns, fill_value=0)"
      ]
    },
    {
      "cell_type": "markdown",
      "id": "342d9dd4",
      "metadata": {},
      "source": [
        "We have to convert our data to numpy as the `Percepton` class takes in the parameters of `X` and `y` as array like."
      ]
    },
    {
      "cell_type": "code",
      "execution_count": 39,
      "id": "435b56b7",
      "metadata": {},
      "outputs": [],
      "source": [
        "Xtr = X_train.to_numpy(dtype=np.float64, copy=False)\n",
        "Xte = X_test.to_numpy(dtype=np.float64, copy=False)\n",
        "ytr = y_train.to_numpy(dtype=np.int64, copy=False)\n",
        "yte = y_test.to_numpy(dtype=np.int64, copy=False)"
      ]
    },
    {
      "cell_type": "markdown",
      "id": "5bf6b685",
      "metadata": {},
      "source": [
        "---"
      ]
    },
    {
      "cell_type": "markdown",
      "id": "7068743d",
      "metadata": {},
      "source": [
        "## Training the Adeline (Gradient Descent) Model\n",
        "\n",
        "- **Cross-validation on training only**: We score each `(eta, n_iter)` combo with 3-fold StratifiedKFold using only `X_train, y_train`. No peeking at test.\n",
        "\n",
        "- **Pick best hyperparams**: Choose the pair with the highest mean CV accuracy (tie-break on smaller `n_iter`).\n",
        "\n",
        "- **Final training**: Retrain a AdalineGD on the full training set using the chosen hyperparams.\n",
        "\n",
        "- **Single test evaluation**: Report accuracy, confusion matrix, and classification report on the held-out test set.\n",
        "\n",
        "- **Convergence plot**: Show misclassifications per epoch (`errors_`) for the final model.\n",
        "\n",
        "| Note: We are not touching `X_val` here. Save that for the final, overall best model across all families."
      ]
    },
    {
      "cell_type": "code",
      "execution_count": 40,
      "id": "12eadd63",
      "metadata": {},
      "outputs": [],
      "source": [
        "def cv_mean_accuracy_adaline(eta, n_iter, X, y, n_splits=3, seed=42):\n",
        "    skf = StratifiedKFold(n_splits=n_splits, shuffle=True, random_state=seed)\n",
        "    scores = []\n",
        "    y_int = y.astype(int)  # accuracy expects ints\n",
        "    for tr_idx, val_idx in skf.split(X, y_int):\n",
        "        X_tr, X_val = X[tr_idx], X[val_idx]\n",
        "        y_tr, y_val = y[tr_idx], y_int[val_idx]\n",
        "        model = AdalineGD(eta=eta, n_iter=n_iter, random_state=seed)\n",
        "        model.fit(X_tr, y_tr)\n",
        "        preds = model.predict(X_val)\n",
        "        scores.append(accuracy_score(y_val, preds))\n",
        "    return float(np.mean(scores))"
      ]
    },
    {
      "cell_type": "code",
      "execution_count": 41,
      "id": "57896f1e",
      "metadata": {},
      "outputs": [
        {
          "name": "stdout",
          "output_type": "stream",
          "text": [
            "Selected by CV (Adaline-GD) → eta=0.01, n_iter=200, mean CV acc=0.8313\n"
          ]
        }
      ],
      "source": [
        "eta_grid    = [0.0005, 0.001, 0.005, 0.01]   # Adaline GD needs small etas\n",
        "n_iter_grid = [50, 100, 150, 200]\n",
        "\n",
        "best = {\"eta\": None, \"n_iter\": None, \"cv_acc\": -1.0}\n",
        "for eta, n_iter in product(eta_grid, n_iter_grid):\n",
        "    cv_acc = cv_mean_accuracy_adaline(eta, n_iter, Xtr, ytr, n_splits=3, seed=42)\n",
        "    if (cv_acc > best[\"cv_acc\"]) or (cv_acc == best[\"cv_acc\"] and (n_iter < (best[\"n_iter\"] or 10))):\n",
        "        best.update({\"eta\": eta, \"n_iter\": n_iter, \"cv_acc\": cv_acc})\n",
        "\n",
        "print(f\"Selected by CV (Adaline-GD) → eta={best['eta']}, n_iter={best['n_iter']}, mean CV acc={best['cv_acc']:.4f}\")"
      ]
    },
    {
      "cell_type": "code",
      "execution_count": 42,
      "id": "dbdd13a5",
      "metadata": {},
      "outputs": [
        {
          "name": "stdout",
          "output_type": "stream",
          "text": [
            "\n",
            "ADALINE-GD — FINAL on TEST: Accuracy=0.8236\n",
            "Confusion Matrix:\n",
            " [[5167  290]\n",
            " [ 991  814]]\n",
            "\n",
            "Classification Report:\n",
            "               precision    recall  f1-score   support\n",
            "\n",
            "           0     0.8391    0.9469    0.8897      5457\n",
            "           1     0.7373    0.4510    0.5596      1805\n",
            "\n",
            "    accuracy                         0.8236      7262\n",
            "   macro avg     0.7882    0.6989    0.7247      7262\n",
            "weighted avg     0.8138    0.8236    0.8077      7262\n",
            "\n"
          ]
        }
      ],
      "source": [
        "final_ad = AdalineGD(eta=best[\"eta\"], n_iter=best[\"n_iter\"], random_state=42)\n",
        "final_ad.fit(Xtr, ytr)\n",
        "\n",
        "y_pred = final_ad.predict(Xte)\n",
        "acc = accuracy_score(yte, y_pred)\n",
        "print(f\"\\nADALINE-GD — FINAL on TEST: Accuracy={acc:.4f}\")\n",
        "print(\"Confusion Matrix:\\n\", confusion_matrix(yte, y_pred))\n",
        "print(\"\\nClassification Report:\\n\", classification_report(yte, y_pred, digits=4))\n"
      ]
    },
    {
      "cell_type": "code",
      "execution_count": 43,
      "id": "df819e6a",
      "metadata": {},
      "outputs": [
        {
          "data": {
            "image/png": "[encoded data removed]",
            "text/plain": [
              "<Figure size 700x400 with 1 Axes>"
            ]
          },
          "metadata": {},
          "output_type": "display_data"
        }
      ],
      "source": [
        "# Cost curve (MSE)\n",
        "plt.figure(figsize=(7,4))\n",
        "plt.plot(range(1, len(final_ad.losses_)+1), final_ad.losses_, marker='o')\n",
        "plt.xlabel(\"Epoch\"); plt.ylabel(\"MSE\"); plt.title(f\"Adaline-GD — Cost per Epoch (eta={best['eta']}, n_iter={best['n_iter']})\")\n",
        "plt.grid(True); plt.show()\n"
      ]
    },
    {
      "cell_type": "markdown",
      "id": "962b0282",
      "metadata": {},
      "source": [
        "---"
      ]
    },
    {
      "cell_type": "markdown",
      "id": "171d5b87",
      "metadata": {},
      "source": [
        "## Training the Adeline (Stochastic Gradient Descent) Model\n",
        "\n",
        "- **Cross-validation on training only**: We score each `(eta, n_iter)` combo with 3-fold StratifiedKFold using only `X_train, y_train`. No peeking at test.\n",
        "\n",
        "- **Pick best hyperparams**: Choose the pair with the highest mean CV accuracy (tie-break on smaller `n_iter`).\n",
        "\n",
        "- **Final training**: Retrain a AdalineSGD on the full training set using the chosen hyperparams.\n",
        "\n",
        "- **Single test evaluation**: Report accuracy, confusion matrix, and classification report on the held-out test set.\n",
        "\n",
        "- **Convergence plot**: Show misclassifications per epoch (`errors_`) for the final model.\n",
        "\n",
        "| Note: We are not touching `X_val` here. Save that for the final, overall best model across all families."
      ]
    },
    {
      "cell_type": "code",
      "execution_count": 48,
      "id": "d32b3592",
      "metadata": {},
      "outputs": [],
      "source": [
        "def cv_mean_accuracy_adaline_sgd(eta, n_iter, X, y, n_splits=3, seed=42):\n",
        "    \"\"\"\n",
        "    Mean CV accuracy for (eta, n_iter) using StratifiedKFold on TRAINING data only.\n",
        "    If a fold numerically diverges (overflow/NaN), that fold gets score=0.0.\n",
        "    \"\"\"\n",
        "    skf = StratifiedKFold(n_splits=n_splits, shuffle=True, random_state=seed)\n",
        "    scores = []\n",
        "    y_int = y.astype(int)   # for splitter & accuracy\n",
        "\n",
        "    for tr_idx, val_idx in skf.split(X, y_int):\n",
        "        X_tr, X_val = X[tr_idx], X[val_idx]\n",
        "        y_tr, y_val = y[tr_idx], y_int[val_idx]\n",
        "        try:\n",
        "            # make NumPy raise on overflow/invalid so we can catch it\n",
        "            with np.errstate(over='raise', invalid='raise'):\n",
        "                m = AdalineSGD(eta=eta, n_iter=n_iter, shuffle=True, random_state=seed)\n",
        "                m.fit(X_tr, y_tr)\n",
        "\n",
        "                # if training obviously diverged, count as 0\n",
        "                if not m.losses_ or not np.isfinite(m.losses_[-1]) or m.losses_[-1] > 1e6:\n",
        "                    scores.append(0.0); continue\n",
        "\n",
        "                preds = m.predict(X_val)        # threshold=0.5\n",
        "                if np.any(~np.isfinite(preds)):\n",
        "                    scores.append(0.0); continue\n",
        "\n",
        "                scores.append(accuracy_score(y_val, preds))\n",
        "        except FloatingPointError:\n",
        "            scores.append(0.0)\n",
        "        except Exception:\n",
        "            scores.append(0.0)\n",
        "\n",
        "    return float(np.mean(scores)) if scores else 0.0"
      ]
    },
    {
      "cell_type": "code",
      "execution_count": 49,
      "id": "122b48a0",
      "metadata": {},
      "outputs": [
        {
          "name": "stdout",
          "output_type": "stream",
          "text": [
            "Selected by CV (Adaline-SGD) → eta=0.001, n_iter=150, mean CV acc=0.8406\n"
          ]
        }
      ],
      "source": [
        "eta_grid    = [1e-6, 3e-6, 1e-5, 3e-5, 1e-4, 3e-4, 1e-3]\n",
        "n_iter_grid = [25, 50, 100, 150]\n",
        "\n",
        "best = {\"eta\": None, \"n_iter\": None, \"cv_acc\": -1.0}\n",
        "for eta, n_iter in product(eta_grid, n_iter_grid):\n",
        "    cv_acc = cv_mean_accuracy_adaline_sgd(eta, n_iter, Xtr, ytr, n_splits=3, seed=42)\n",
        "    if (cv_acc > best[\"cv_acc\"]) or (cv_acc == best[\"cv_acc\"] and (best[\"n_iter\"] is None or n_iter < best[\"n_iter\"])):\n",
        "        best.update({\"eta\": eta, \"n_iter\": n_iter, \"cv_acc\": cv_acc})\n",
        "\n",
        "print(f\"Selected by CV (Adaline-SGD) → eta={best['eta']}, n_iter={best['n_iter']}, \"\n",
        "      f\"mean CV acc={best['cv_acc']:.4f}\")"
      ]
    },
    {
      "cell_type": "code",
      "execution_count": 50,
      "id": "092eaca9",
      "metadata": {},
      "outputs": [
        {
          "name": "stdout",
          "output_type": "stream",
          "text": [
            "\n",
            "ADALINE-SGD — FINAL on TEST: Accuracy=0.8277\n",
            "Confusion Matrix:\n",
            " [[5143  314]\n",
            " [ 937  868]]\n",
            "\n",
            "Classification Report:\n",
            "               precision    recall  f1-score   support\n",
            "\n",
            "           0     0.8459    0.9425    0.8916      5457\n",
            "           1     0.7343    0.4809    0.5812      1805\n",
            "\n",
            "    accuracy                         0.8277      7262\n",
            "   macro avg     0.7901    0.7117    0.7364      7262\n",
            "weighted avg     0.8182    0.8277    0.8144      7262\n",
            "\n"
          ]
        }
      ],
      "source": [
        "final_adsgd = AdalineSGD(eta=best[\"eta\"], n_iter=best[\"n_iter\"], shuffle=True, random_state=42)\n",
        "final_adsgd.fit(Xtr, ytr)\n",
        "\n",
        "# single evaluation on TEST\n",
        "y_pred = final_adsgd.predict(Xte)\n",
        "acc = accuracy_score(yte, y_pred)\n",
        "print(f\"\\nADALINE-SGD — FINAL on TEST: Accuracy={acc:.4f}\")\n",
        "print(\"Confusion Matrix:\\n\", confusion_matrix(yte, y_pred))\n",
        "print(\"\\nClassification Report:\\n\", classification_report(yte, y_pred, digits=4))"
      ]
    },
    {
      "cell_type": "code",
      "execution_count": 51,
      "id": "8cf78160",
      "metadata": {},
      "outputs": [
        {
          "data": {
            "image/png": "[encoded data removed]",
            "text/plain": [
              "<Figure size 700x400 with 1 Axes>"
            ]
          },
          "metadata": {},
          "output_type": "display_data"
        }
      ],
      "source": [
        "# Cost curve (MSE)\n",
        "plt.figure(figsize=(7,4))\n",
        "plt.plot(range(1, len(final_adsgd.losses_) + 1), final_adsgd.losses_, marker='o')\n",
        "plt.xlabel(\"Epoch\"); plt.ylabel(\"Mean Squared Error\")\n",
        "plt.title(f\"Adaline-SGD — Loss per Epoch (eta={best['eta']}, n_iter={best['n_iter']})\")\n",
        "plt.grid(True); plt.show()"
      ]
    }
  ],
  "metadata": {
    "kernelspec": {
      "display_name": "DASC41103",
      "language": "python",
      "name": "python3"
    },
    "language_info": {
      "codemirror_mode": {
        "name": "ipython",
        "version": 3
      },
      "file_extension": ".py",
      "mimetype": "text/x-python",
      "name": "python",
      "nbconvert_exporter": "python",
      "pygments_lexer": "ipython3",
      "version": "3.12.11"
    }
  },
  "nbformat": 4,
  "nbformat_minor": 5
}
