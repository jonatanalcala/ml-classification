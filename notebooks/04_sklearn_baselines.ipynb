{
  "cells": [
    {
      "cell_type": "markdown",
      "id": "d0f717a2",
      "metadata": {},
      "source": [
        "# Scikit-Learn Perceptron & Adaline Implemantations"
      ]
    },
    {
      "cell_type": "markdown",
      "id": "e2b179e7",
      "metadata": {},
      "source": [
        "In this section we will use the `linear_model` module from the `sklearn` library to predict if the individual will earn over 50K or not. We will use the hyperparameters we found in the previous scratch implementations in this notebook. "
      ]
    },
    {
      "cell_type": "code",
      "execution_count": 3,
      "id": "e1da8579-debe-4680-b017-fe8df34cb314",
      "metadata": {
        "trusted": true
      },
      "outputs": [],
      "source": [
        "# scikit-learn pereptron and adaline implementations\n",
        "import numpy as np\n",
        "import pandas as pd\n",
        "from pathlib import Path\n",
        "from sklearn.linear_model import Perceptron as SkPerceptron, SGDRegressor\n",
        "from sklearn.metrics import accuracy_score"
      ]
    },
    {
      "cell_type": "markdown",
      "id": "d56f2950",
      "metadata": {},
      "source": [
        "---"
      ]
    },
    {
      "cell_type": "markdown",
      "id": "354bf9d4",
      "metadata": {},
      "source": [
        "## Load Processed Datasets\n",
        "\n",
        "Read the preprocessed train/test feature matrices and labels, plus the validation features. These CSVs were produced earlier by the preprocessing pipeline (one-hot + numeric scaling), and will be the consistent input for all models."
      ]
    },
    {
      "cell_type": "code",
      "execution_count": 4,
      "id": "11a54cfa",
      "metadata": {},
      "outputs": [],
      "source": [
        "# Reload features\n",
        "X_train = pd.read_csv(\"../data/processed/X_train.csv\")\n",
        "X_test  = pd.read_csv(\"../data/processed/X_test.csv\")\n",
        "X_val = pd.read_csv(\"../data/processed/X_val.csv\")\n",
        "\n",
        "# Reload targets (squeezed into Series)\n",
        "y_train = pd.read_csv(\"../data/processed/y_train.csv\").squeeze(\"columns\")\n",
        "y_test  = pd.read_csv(\"../data/processed/y_test.csv\").squeeze(\"columns\")\n",
        "\n",
        "# Align one-hot columns (safety)\n",
        "X_test = X_test.reindex(columns=X_train.columns, fill_value=0)\n",
        "X_val  = X_val.reindex(columns=X_train.columns,  fill_value=0)"
      ]
    },
    {
      "cell_type": "code",
      "execution_count": 5,
      "id": "adbcbc66",
      "metadata": {},
      "outputs": [],
      "source": [
        "# To numpy\n",
        "Xtr = X_train.to_numpy(dtype=np.float64, copy=False)\n",
        "ytr_ppn = y_train.to_numpy(dtype=np.int64,  copy=False)   # Perceptron wants class labels\n",
        "ytr_ada = y_train.to_numpy(dtype=np.float64, copy=False)  # Adaline learns on 0.0/1.0\n",
        "Xte = X_test.to_numpy(dtype=np.float64,  copy=False)\n",
        "yte = y_test.to_numpy(dtype=np.int64,    copy=False)\n",
        "Xv  = X_val.to_numpy(dtype=np.float64,   copy=False)"
      ]
    },
    {
      "cell_type": "markdown",
      "id": "f31cf581",
      "metadata": {},
      "source": [
        "**Use Best Hyperparameters from CV**\n",
        "\n",
        "Plug in the (eta, max_iter) pairs selected by cross-validation on the training set (no test peeking). These are the “winner” settings we’ll use to train the final sklearn models below."
      ]
    },
    {
      "cell_type": "code",
      "execution_count": 6,
      "id": "ec6b4631",
      "metadata": {},
      "outputs": [],
      "source": [
        "# Use best hyperparameters from CV\n",
        "best_eta_ppn, best_max_iter_ppn = 0.01, 150\n",
        "best_eta_ada, best_max_iter_ada = 0.001, 150  "
      ]
    },
    {
      "cell_type": "markdown",
      "id": "b4113b2f",
      "metadata": {},
      "source": [
        "---"
      ]
    },
    {
      "cell_type": "markdown",
      "id": "cd1d5298",
      "metadata": {},
      "source": [
        "## Train scikit-learn Perceptron\n",
        "\n",
        "Instantiate sklearn’s Perceptron with the chosen learning rate (`eta`) and number of epochs (`max_iter`), disable early stopping (`tol=None`) to run full passes, and train on all of `X_train, y_train`."
      ]
    },
    {
      "cell_type": "code",
      "execution_count": null,
      "id": "44fb2157",
      "metadata": {},
      "outputs": [
        {
          "name": "stdout",
          "output_type": "stream",
          "text": [
            "[sklearn Perceptron] Test accuracy: 0.8129\n"
          ]
        }
      ],
      "source": [
        "sk_ppn = SkPerceptron(\n",
        "    eta0=best_eta_ppn,\n",
        "    max_iter=best_max_iter_ppn,\n",
        "    tol=None,                # run full epochs\n",
        "    shuffle=True,\n",
        "    random_state=42\n",
        ")\n",
        "sk_ppn.fit(Xtr, ytr_ppn)\n",
        "\n",
        "# Test predictions\n",
        "sk_y_pred_test_ppn = sk_ppn.predict(Xte)\n",
        "print(f\"[sklearn Perceptron] Test accuracy: {accuracy_score(yte, sk_y_pred_test_ppn):.4f}\")\n",
        "\n",
        "# Validation Predictions\n",
        "sk_val_pred_ppn = sk_ppn.predict(Xv)\n",
        "pd.DataFrame({\"income\": sk_val_pred_ppn}).to_csv(\"../outputs/predictions/Group_18_Perceptron_PredictedOutputs.csv\", index=False)"
      ]
    },
    {
      "cell_type": "markdown",
      "id": "e9c79238",
      "metadata": {},
      "source": [
        "--- \n",
        "\n",
        "## Train scikit-learn Adaline (via SGDRegressor)\n",
        "\n",
        "Classic Adaline minimizes squared error of a linear unit. We emulate this with `SGDRegressor(loss=\"squared_error\")`, learning on targets in `{0.0, 1.0}` and using a constant learning rate (`eta0`). No regularization (`penalty=None`) mirrors the textbook Adaline update."
      ]
    },
    {
      "cell_type": "code",
      "execution_count": null,
      "id": "8234c085",
      "metadata": {},
      "outputs": [
        {
          "name": "stdout",
          "output_type": "stream",
          "text": [
            "[sklearn Adaline]   Test accuracy: 0.8253\n"
          ]
        }
      ],
      "source": [
        "# Train a linear regressor on targets {0,1}, then threshold at 0.5 for class prediction\n",
        "sk_ada = SGDRegressor(\n",
        "    loss=\"squared_error\",\n",
        "    penalty=None,             # mirrors classic Adaline (no regularization)\n",
        "    learning_rate=\"constant\",\n",
        "    eta0=best_eta_ada,\n",
        "    max_iter=best_max_iter_ada,\n",
        "    tol=None,\n",
        "    random_state=42\n",
        ")\n",
        "sk_ada.fit(Xtr, ytr_ada)\n",
        "\n",
        "# Test predictions\n",
        "test_scores = sk_ada.predict(Xte)               # continuous scores\n",
        "sk_y_pred_test_ada = (test_scores >= 0.5).astype(int)\n",
        "print(f\"[sklearn Adaline]   Test accuracy: {accuracy_score(yte, sk_y_pred_test_ada):.4f}\")\n",
        "\n",
        "# Validation predictions\n",
        "val_scores = sk_ada.predict(Xv)\n",
        "sk_val_pred_ada = (val_scores >= 0.5).astype(int)\n",
        "pd.DataFrame({\"prediction\": sk_val_pred_ada}).to_csv(\"../outputs/predictions/Group_18_Adaline_PredictedOutputs.csv\", index=False)"
      ]
    },
    {
      "cell_type": "code",
      "execution_count": 9,
      "id": "5c83211f",
      "metadata": {},
      "outputs": [
        {
          "name": "stdout",
          "output_type": "stream",
          "text": [
            "Saved:\n",
            " - ../outputs/predictions/Group_18_Perceptron_PredictedOutputs.csv\n",
            " - ../outputs/predictions/Group_18_Adaline_PredictedOutputs.csv\n"
          ]
        }
      ],
      "source": [
        "print(\"Saved:\")\n",
        "print(\" - ../outputs/predictions/Group_18_Perceptron_PredictedOutputs.csv\")\n",
        "print(\" - ../outputs/predictions/Group_18_Adaline_PredictedOutputs.csv\")"
      ]
    }
  ],
  "metadata": {
    "kernelspec": {
      "display_name": "DASC41103",
      "language": "python",
      "name": "python3"
    },
    "language_info": {
      "codemirror_mode": {
        "name": "ipython",
        "version": 3
      },
      "file_extension": ".py",
      "mimetype": "text/x-python",
      "name": "python",
      "nbconvert_exporter": "python",
      "pygments_lexer": "ipython3",
      "version": "3.12.11"
    }
  },
  "nbformat": 4,
  "nbformat_minor": 5
}
