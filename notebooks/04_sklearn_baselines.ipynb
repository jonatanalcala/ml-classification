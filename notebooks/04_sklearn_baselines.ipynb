{
  "cells": [
    {
      "cell_type": "markdown",
      "id": "d0f717a2",
      "metadata": {},
      "source": [
        "# Scikit-Learn Perceptron & Adaline Implemantations"
      ]
    },
    {
      "cell_type": "markdown",
      "id": "e2b179e7",
      "metadata": {},
      "source": [
        "In this section we will use the `linear_model` module from the `sklearn` library to predict if the individual will earn over 50K or not. We will use the hyperparameters we found in the previous scratch implementations in this notebook. "
      ]
    },
    {
      "cell_type": "code",
      "execution_count": 19,
      "id": "e1da8579-debe-4680-b017-fe8df34cb314",
      "metadata": {
        "trusted": true
      },
      "outputs": [],
      "source": [
        "# scikit-learn pereptron and adaline implementations\n",
        "import os\n",
        "import numpy as np\n",
        "import pandas as pd\n",
        "from pathlib import Path\n",
        "from sklearn.linear_model import Perceptron as SkPerceptron, SGDRegressor\n",
        "from sklearn.model_selection import GridSearchCV, StratifiedKFold\n",
        "from sklearn.metrics import accuracy_score, make_scorer"
      ]
    },
    {
      "cell_type": "markdown",
      "id": "d56f2950",
      "metadata": {},
      "source": [
        "---"
      ]
    },
    {
      "cell_type": "markdown",
      "id": "354bf9d4",
      "metadata": {},
      "source": [
        "## Load Processed Datasets\n",
        "\n",
        "Read the preprocessed train/test feature matrices and labels, plus the validation features. These CSVs were produced earlier by the preprocessing pipeline (one-hot + numeric scaling), and will be the consistent input for all models."
      ]
    },
    {
      "cell_type": "code",
      "execution_count": 20,
      "id": "11a54cfa",
      "metadata": {},
      "outputs": [],
      "source": [
        "# Reload features\n",
        "X_train = pd.read_csv(\"../data/processed/X_train.csv\")\n",
        "X_test  = pd.read_csv(\"../data/processed/X_test.csv\")\n",
        "X_val = pd.read_csv(\"../data/processed/X_val.csv\")\n",
        "\n",
        "# Reload targets (squeezed into Series)\n",
        "y_train = pd.read_csv(\"../data/processed/y_train.csv\").squeeze(\"columns\")\n",
        "y_test  = pd.read_csv(\"../data/processed/y_test.csv\").squeeze(\"columns\")\n",
        "\n",
        "# Align one-hot columns (safety)\n",
        "X_test = X_test.reindex(columns=X_train.columns, fill_value=0)\n",
        "X_val  = X_val.reindex(columns=X_train.columns,  fill_value=0)"
      ]
    },
    {
      "cell_type": "code",
      "execution_count": 21,
      "id": "adbcbc66",
      "metadata": {},
      "outputs": [],
      "source": [
        "# To numpy\n",
        "Xtr = X_train.to_numpy(dtype=np.float64, copy=False)\n",
        "ytr_ppn = y_train.to_numpy(dtype=np.int64,  copy=False)   # Perceptron wants class labels\n",
        "ytr_ada = y_train.to_numpy(dtype=np.float64, copy=False)  # Adaline learns on 0.0/1.0\n",
        "Xte = X_test.to_numpy(dtype=np.float64,  copy=False)\n",
        "yte = y_test.to_numpy(dtype=np.int64,    copy=False)\n",
        "Xv  = X_val.to_numpy(dtype=np.float64,   copy=False)"
      ]
    },
    {
      "cell_type": "markdown",
      "id": "b2cb6b33",
      "metadata": {},
      "source": [
        "----"
      ]
    },
    {
      "cell_type": "markdown",
      "id": "f31cf581",
      "metadata": {},
      "source": [
        "## Hyperparameter Tunning\n",
        "\n",
        "Now we will systematically find the optimal combination of hyperparameters."
      ]
    },
    {
      "cell_type": "markdown",
      "id": "d1d76260",
      "metadata": {},
      "source": [
        "### Perceptron (scikit-learn, GridSearchCV)"
      ]
    },
    {
      "cell_type": "code",
      "execution_count": 22,
      "id": "ec6b4631",
      "metadata": {},
      "outputs": [
        {
          "name": "stdout",
          "output_type": "stream",
          "text": [
            "Perceptron best params: {'alpha': 0.0001, 'early_stopping': True, 'eta0': 0.1, 'max_iter': 1000, 'penalty': 'elasticnet'}\n",
            "Perceptron CV best accuracy: 0.8191743347089357\n",
            "Perceptron TEST accuracy: 0.7676263595649392\n"
          ]
        }
      ],
      "source": [
        "# GridSearchCV for best hyperparameters for SkPerceptron\n",
        "\n",
        "cv = StratifiedKFold(n_splits=5, shuffle=True, random_state=42)\n",
        "\n",
        "ppn = SkPerceptron(random_state=42)\n",
        "ppn_param_grid = {\n",
        "    \"penalty\": [None, \"l2\", \"l1\", \"elasticnet\"],\n",
        "    \"alpha\": [1e-5, 1e-4, 1e-3],\n",
        "    \"eta0\": [0.01, 0.1, 1.0],      # learning rate for constant schedule\n",
        "    \"max_iter\": [1000, 2000],\n",
        "    \"early_stopping\": [True, False],\n",
        "}\n",
        "\n",
        "ppn_gs = GridSearchCV(\n",
        "    estimator=ppn,\n",
        "    param_grid=ppn_param_grid,\n",
        "    scoring=\"accuracy\",\n",
        "    cv=cv,\n",
        "    n_jobs=-1,\n",
        "    refit=True,\n",
        "    verbose=0,\n",
        ")\n",
        "ppn_gs.fit(Xtr, ytr_ppn)\n",
        "\n",
        "print(\"Perceptron best params:\", ppn_gs.best_params_)\n",
        "print(\"Perceptron CV best accuracy:\", ppn_gs.best_score_)\n",
        "ppn_test_acc = accuracy_score(yte, ppn_gs.predict(Xte))\n",
        "print(\"Perceptron TEST accuracy:\", ppn_test_acc)"
      ]
    },
    {
      "cell_type": "markdown",
      "id": "53efe1a5",
      "metadata": {},
      "source": [
        "The grid search selected `alpha=0.0001`, `early_stopping=True`, `eta0=0.1`, `max_iter=1000`, and `penalty='elasticnet'` as the best parameters. With these settings, the model achieved a cross-validation accuracy of ~0.82, but the test accuracy dropped to ~0.77, indicating some overfitting."
      ]
    },
    {
      "cell_type": "markdown",
      "id": "802349a8",
      "metadata": {},
      "source": [
        "### Adaline (scikit-learn, GridSearchCV)"
      ]
    },
    {
      "cell_type": "code",
      "execution_count": 23,
      "id": "7ec05967",
      "metadata": {},
      "outputs": [
        {
          "name": "stderr",
          "output_type": "stream",
          "text": [
            "c:\\Users\\jonat\\.conda\\envs\\DASC41103\\Lib\\site-packages\\sklearn\\model_selection\\_search.py:1135: UserWarning: One or more of the test scores are non-finite: [nan nan nan nan nan nan nan nan nan nan nan nan nan nan nan nan nan nan]\n",
            "  warnings.warn(\n"
          ]
        },
        {
          "name": "stdout",
          "output_type": "stream",
          "text": [
            "Adaline best params: {'alpha': 0.001, 'eta0': 0.0001, 'max_iter': 1000, 'penalty': None, 'tol': 0.001}\n",
            "Adaline CV best accuracy: nan\n",
            "Adaline TEST accuracy: 0.8344209852847089\n"
          ]
        }
      ],
      "source": [
        "# GridSearchCV for best hyperparameters for SGDRegressor (Adaline)\n",
        "\n",
        "def adaline_acc_scorer(estimator, X, y):\n",
        "    y_cont = estimator.predict(X)\n",
        "    y_hat = (y_cont >= 0.5).astype(int)\n",
        "    return accuracy_score(y, y_hat)\n",
        "\n",
        "ada = SGDRegressor(\n",
        "    loss=\"squared_error\",\n",
        "    learning_rate=\"constant\",\n",
        "    random_state=42,\n",
        ")\n",
        "\n",
        "ada_param_grid = {\n",
        "    \"penalty\": [None, \"l2\"],\n",
        "    \"alpha\": [1e-3, 1e-4, 1e-5],\n",
        "    \"eta0\": [0.0001, 0.001, 0.01],\n",
        "    \"max_iter\": [1000],\n",
        "    \"tol\": [1e-3],\n",
        "}\n",
        "\n",
        "ada_gs = GridSearchCV(\n",
        "    estimator=ada,\n",
        "    param_grid=ada_param_grid,\n",
        "    scoring=make_scorer(adaline_acc_scorer, greater_is_better=True),\n",
        "    cv=cv,\n",
        "    n_jobs=-1,\n",
        "    refit=True,\n",
        "    verbose=0,\n",
        ")\n",
        "ada_gs.fit(Xtr, ytr_ada)\n",
        "\n",
        "print(\"Adaline best params:\", ada_gs.best_params_)\n",
        "print(\"Adaline CV best accuracy:\", ada_gs.best_score_)\n",
        "yte_ada_hat = (ada_gs.predict(Xte) >= 0.5).astype(int)\n",
        "ada_test_acc = accuracy_score(yte, yte_ada_hat)\n",
        "print(\"Adaline TEST accuracy:\", ada_test_acc)"
      ]
    },
    {
      "cell_type": "markdown",
      "id": "1e85e78d",
      "metadata": {},
      "source": [
        "The grid search produced instability for many hyperparameter combinations, leading to non-finite (`NaN`) cross-validation scores. This is a known issue with `SGDRegressor` when the learning rate or regularization values are not well balanced. Despite these warnings, the best estimator (`alpha=0.001`, `eta0=0.0001`, `max_iter=1000`, `penalty=None`) trained successfully and achieved a test accuracy of ~0.83."
      ]
    },
    {
      "cell_type": "markdown",
      "id": "b4113b2f",
      "metadata": {},
      "source": [
        "---"
      ]
    },
    {
      "cell_type": "markdown",
      "id": "2ef8aadf",
      "metadata": {},
      "source": [
        "## Predicting Outputs for `project_validation_inputs`"
      ]
    },
    {
      "cell_type": "markdown",
      "id": "85be4760",
      "metadata": {},
      "source": [
        "Generating the required prediction files (0/1, one per line, no header) for `project_validation_inputs.csv`."
      ]
    },
    {
      "cell_type": "code",
      "execution_count": 24,
      "id": "cfc7f97a",
      "metadata": {},
      "outputs": [],
      "source": [
        "# Save Perceptron predictions (0/1)\n",
        "pd.Series(ppn_gs.predict(Xv)).to_csv(\n",
        "    \"../outputs/Group_18_Perceptron_PredictedOutputs.csv\", \n",
        "    index=False, header=False\n",
        ")\n",
        "\n",
        "# Save Adaline predictions (threshold at 0.5 → 0/1)\n",
        "pd.Series((ada_gs.predict(Xv) >= 0.5).astype(int)).to_csv(\n",
        "    \"../outputs/Group_18_Adaline_PredictedOutputs.csv\", \n",
        "    index=False, header=False\n",
        ")"
      ]
    }
  ],
  "metadata": {
    "kernelspec": {
      "display_name": "DASC41103",
      "language": "python",
      "name": "python3"
    },
    "language_info": {
      "codemirror_mode": {
        "name": "ipython",
        "version": 3
      },
      "file_extension": ".py",
      "mimetype": "text/x-python",
      "name": "python",
      "nbconvert_exporter": "python",
      "pygments_lexer": "ipython3",
      "version": "3.12.11"
    }
  },
  "nbformat": 4,
  "nbformat_minor": 5
}
